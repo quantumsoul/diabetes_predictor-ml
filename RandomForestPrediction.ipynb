{
 "cells": [
  {
   "cell_type": "code",
   "execution_count": 74,
   "id": "00cf3cd0",
   "metadata": {},
   "outputs": [],
   "source": [
    "from sklearn.ensemble import RandomForestClassifier\n",
    "import pandas as pd\n",
    "import numpy as np\n",
    "from sklearn.model_selection import train_test_split\n",
    "from sklearn.preprocessing import MinMaxScaler\n",
    "\n",
    "features = ['pregnency', 'glucose', 'BP', 'skin', 'insulin', 'BMI', 'DiabetesPedigree', 'age', 'class']\n",
    "dataset = pd.read_csv('datasets_14370_19291_pima-indians-diabetes.csv', names=features)\n",
    "\n",
    "df1 = dataset.loc[dataset['class'] == 1]\n",
    "df2 = dataset.loc[dataset['class'] == 0] \n",
    "\n",
    "df1 = df1.replace({'BP':0}, np.median(df1['BP']))\n",
    "df2 = df2.replace({'BP':0}, np.median(df2['BP']))\n",
    "\n",
    "df1 = df1.replace({'BMI':0}, np.median(df1['BMI']))\n",
    "df2 = df2.replace({'BMI':0}, np.median(df2['BMI']))\n",
    "\n",
    "df1 = df1.replace({'glucose':0}, np.median(df1['glucose']))\n",
    "df2 = df2.replace({'glucose':0}, np.median(df2['glucose']))\n",
    "\n",
    "df1 = df1.replace({'skin':0}, np.median(df1['skin']))\n",
    "df2 = df2.replace({'skin':0}, np.median(df2['skin']))\n",
    "\n",
    "dataframe = [df1, df2]\n",
    "dataset = pd.concat(dataframe)"
   ]
  },
  {
   "cell_type": "code",
   "execution_count": 75,
   "id": "c060cc39",
   "metadata": {},
   "outputs": [
    {
     "name": "stdout",
     "output_type": "stream",
     "text": [
      "[[0.35294118 0.67096774 0.48979592 ... 0.31492843 0.23441503 0.48333333]\n",
      " [0.47058824 0.89677419 0.40816327 ... 0.10429448 0.25362938 0.18333333]\n",
      " [0.         0.6        0.16326531 ... 0.50920245 0.94363792 0.2       ]\n",
      " ...\n",
      " [0.11764706 0.50322581 0.46938776 ... 0.3803681  0.1118702  0.1       ]\n",
      " [0.29411765 0.49677419 0.48979592 ... 0.16359918 0.07130658 0.15      ]\n",
      " [0.05882353 0.31612903 0.46938776 ... 0.24948875 0.10119556 0.03333333]]\n"
     ]
    }
   ],
   "source": [
    "X = dataset.iloc[:,0:8]\n",
    "Y = dataset.iloc[:,8]\n",
    "\n",
    "scaler = MinMaxScaler()\n",
    "X = scaler.fit_transform(X)\n",
    "print(X)"
   ]
  },
  {
   "cell_type": "code",
   "execution_count": 78,
   "id": "65dbe1bc",
   "metadata": {},
   "outputs": [
    {
     "data": {
      "text/plain": [
       "RandomForestClassifier(max_features='sqrt', n_estimators=300)"
      ]
     },
     "execution_count": 78,
     "metadata": {},
     "output_type": "execute_result"
    }
   ],
   "source": [
    "X_train, X_val, y_train, y_val = train_test_split(X, Y, test_size=0.33, random_state=42)\n",
    "\n",
    "model = RandomForestClassifier(n_estimators=300, bootstrap = True, max_features = 'sqrt')\n",
    "model.fit(X_train, y_train)"
   ]
  },
  {
   "cell_type": "code",
   "execution_count": 80,
   "id": "c977e9db",
   "metadata": {},
   "outputs": [
    {
     "data": {
      "text/plain": [
       "0.8661417322834646"
      ]
     },
     "execution_count": 80,
     "metadata": {},
     "output_type": "execute_result"
    }
   ],
   "source": [
    "model.score(X_val, y_val, sample_weight=None)"
   ]
  },
  {
   "cell_type": "code",
   "execution_count": null,
   "id": "c33d0513",
   "metadata": {},
   "outputs": [],
   "source": []
  }
 ],
 "metadata": {
  "kernelspec": {
   "display_name": "Python 3",
   "language": "python",
   "name": "python3"
  },
  "language_info": {
   "codemirror_mode": {
    "name": "ipython",
    "version": 3
   },
   "file_extension": ".py",
   "mimetype": "text/x-python",
   "name": "python",
   "nbconvert_exporter": "python",
   "pygments_lexer": "ipython3",
   "version": "3.8.8"
  }
 },
 "nbformat": 4,
 "nbformat_minor": 5
}
